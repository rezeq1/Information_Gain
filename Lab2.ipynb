{
 "cells": [
  {
   "cell_type": "markdown",
   "metadata": {},
   "source": [
    "# Entropy"
   ]
  },
  {
   "cell_type": "code",
   "execution_count": 5,
   "metadata": {},
   "outputs": [
    {
     "name": "stdout",
     "output_type": "stream",
     "text": [
      "2.1556390622295662\n"
     ]
    }
   ],
   "source": [
    "from math import log2\n",
    "def entropy(data):\n",
    "    sum = 0\n",
    "    if len(data) <= 1:\n",
    "        return 0\n",
    "    temp={}\n",
    "    \n",
    "    for i in data:\n",
    "        if i in temp:\n",
    "            temp[i]+=1\n",
    "        else:\n",
    "            temp[i]=1\n",
    "    for key in temp:\n",
    "        p = temp[key]/len(data)\n",
    "        sum += p *log2(p)\n",
    "    return -1*sum\n",
    "\n",
    "print(entropy([1,4,5,1,6,3,3,3]))"
   ]
  },
  {
   "cell_type": "code",
   "execution_count": 6,
   "metadata": {},
   "outputs": [
    {
     "name": "stdout",
     "output_type": "stream",
     "text": [
      "2.1556390622295662\n"
     ]
    }
   ],
   "source": [
    "from pyitlib import discrete_random_variable as drv\n",
    "print(drv.entropy([1,4,5,1,6,3,3,3]))"
   ]
  },
  {
   "cell_type": "markdown",
   "metadata": {},
   "source": [
    "# Conditional entropy"
   ]
  },
  {
   "cell_type": "code",
   "execution_count": 8,
   "metadata": {},
   "outputs": [
    {
     "data": {
      "text/plain": [
       "0.6666666666666666"
      ]
     },
     "execution_count": 8,
     "metadata": {},
     "output_type": "execute_result"
    }
   ],
   "source": [
    "from math import log\n",
    "\n",
    "def conditionalEntropy(list1, list2):\n",
    "    '''\n",
    "    :param list1:list of data\n",
    "    :param list2: list of data\n",
    "    :return: the conditional entropy of the lists\n",
    "    '''\n",
    "    if len(list1) != len(list2):\n",
    "        raise ValueError(\"the length of the lists must be equal\")\n",
    "\n",
    "    temp1 = []\n",
    "    for i in range(len(list1)):\n",
    "        temp1.append((list1[i], list2[i]))\n",
    "\n",
    "    temp2 = set(temp1)\n",
    "    ent = 0\n",
    "    for i in temp2:\n",
    "        ent += -((temp1.count(i) / len(temp1)) * log((temp1.count(i) / len(temp1)) / (list2.count(i[1]) / len(list1)),\n",
    "                                                     2))\n",
    "    return ent\n",
    "\n",
    "conditional_entropy([1,2,4,3,5,1], [\"red\",\"blue\",\"red\",\"pink\",\"pink\",\"white\"])"
   ]
  },
  {
   "cell_type": "code",
   "execution_count": 2,
   "metadata": {},
   "outputs": [
    {
     "data": {
      "text/plain": [
       "array(0.66666667)"
      ]
     },
     "execution_count": 2,
     "metadata": {},
     "output_type": "execute_result"
    }
   ],
   "source": [
    "from pyitlib import discrete_random_variable as drv\n",
    "drv.entropy_conditional([1,2,4,3,5,1],[4,2,4,3,3,6])"
   ]
  },
  {
   "cell_type": "markdown",
   "metadata": {},
   "source": [
    "# Mutual Information"
   ]
  },
  {
   "cell_type": "code",
   "execution_count": 113,
   "metadata": {},
   "outputs": [
    {
     "data": {
      "text/plain": [
       "1.163101350010899"
      ]
     },
     "execution_count": 113,
     "metadata": {},
     "output_type": "execute_result"
    }
   ],
   "source": [
    "def Mutual_Information(list1,list2):\n",
    "    \n",
    "    if len(list1) != len(list2):\n",
    "        raise ValueError(\"The lists of input must be of the same size.\")\n",
    "    return entropy(list2)-conditional_entropy(list2,list1)\n",
    "\n",
    "Mutual_Information([1,1,1,2,4,4,4],['red','red','red','blue','green','blue','black'])"
   ]
  },
  {
   "cell_type": "code",
   "execution_count": 117,
   "metadata": {},
   "outputs": [
    {
     "data": {
      "text/plain": [
       "1.1631013500108993"
      ]
     },
     "execution_count": 117,
     "metadata": {},
     "output_type": "execute_result"
    }
   ],
   "source": [
    "from pyitlib import discrete_random_variable as drv\n",
    "drv.information_mutual([1,1,1,2,4,4,4],[4,4,4,1,2,1,3])"
   ]
  },
  {
   "cell_type": "markdown",
   "metadata": {},
   "source": [
    "# Information gain"
   ]
  },
  {
   "cell_type": "code",
   "execution_count": 14,
   "metadata": {},
   "outputs": [
    {
     "data": {
      "text/plain": [
       "0.4199730940219749"
      ]
     },
     "execution_count": 14,
     "metadata": {},
     "output_type": "execute_result"
    }
   ],
   "source": [
    "def information_gain(x,y):\n",
    "    \n",
    "    entropy_childrens=[]\n",
    "    entropy_parent=entropy(y)\n",
    "    for i in range(0,len(x)-1):\n",
    "        avg=(x[i+1]+x[i])/2\n",
    "        D_left=[]\n",
    "        D_right=[]\n",
    "        for k in range(0,len(x)):\n",
    "            if x[k]<= avg:\n",
    "                D_left.append(y[k])\n",
    "            else:\n",
    "                D_right.append(y[k])\n",
    "                \n",
    "        Entopy_left= entropy(D_left)\n",
    "        Entropy_right=entropy(D_right)\n",
    "        weghits=len(D_left)/len(x)\n",
    "        entropy_childrens.append(entropy_parent-(weghits*Entopy_left+(1-weghits)*Entropy_right))\n",
    "        \n",
    "        \n",
    "    return max(entropy_childrens)\n",
    "\n",
    "information_gain([4,5,8,12,15],['N','Y','N','Y','Y'])"
   ]
  },
  {
   "cell_type": "code",
   "execution_count": 111,
   "metadata": {},
   "outputs": [
    {
     "data": {
      "text/plain": [
       "0.6730116670092567"
      ]
     },
     "execution_count": 111,
     "metadata": {},
     "output_type": "execute_result"
    }
   ],
   "source": [
    "from info_gain import info_gain\n",
    "info_gain.info_gain([4,5,8,12,15],['N','Y','N','Y','Y'])"
   ]
  },
  {
   "cell_type": "code",
   "execution_count": null,
   "metadata": {},
   "outputs": [],
   "source": []
  }
 ],
 "metadata": {
  "kernelspec": {
   "display_name": "Python 3",
   "language": "python",
   "name": "python3"
  },
  "language_info": {
   "codemirror_mode": {
    "name": "ipython",
    "version": 3
   },
   "file_extension": ".py",
   "mimetype": "text/x-python",
   "name": "python",
   "nbconvert_exporter": "python",
   "pygments_lexer": "ipython3",
   "version": "3.7.4"
  }
 },
 "nbformat": 4,
 "nbformat_minor": 2
}
